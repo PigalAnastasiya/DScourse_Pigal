{
 "cells": [
  {
   "cell_type": "code",
   "execution_count": 3379,
   "metadata": {},
   "outputs": [],
   "source": [
    "import numpy as np\n",
    "import time\n",
    "import random\n"
   ]
  },
  {
   "cell_type": "code",
   "execution_count": 3380,
   "metadata": {},
   "outputs": [
    {
     "name": "stdout",
     "output_type": "stream",
     "text": [
      "Вектор = [4 7]\n",
      "Вектор = [7 8]\n",
      "Скаляр = 4\n",
      "Первая матрица:\n",
      " [[6 6]\n",
      " [9 6]] \n",
      " Вторая матрица:\n",
      " [[1 7]\n",
      " [4 9]]\n"
     ]
    }
   ],
   "source": [
    "k = int(input(\"Размерность вектора =  \"))\n",
    "simple_vector_first = np.array(np.random.randint(0, 10, k))\n",
    "print(f\"Вектор = {simple_vector_first}\")\n",
    "\n",
    "t = int(input(\"Размерность вектора =  \"))\n",
    "simple_vector_second = np.array(np.random.randint(0, 10, t))\n",
    "print(f\"Вектор = {simple_vector_second}\")\n",
    "\n",
    "scalar_value = random.randint(1, 11)\n",
    "print(f\"Скаляр = {scalar_value}\")\n",
    "\n",
    "\n",
    "m = int(input('Количество строк у первой матрицы = '))\n",
    "n =int( input('Количество столбцов у первой матрицы = '))\n",
    "matrix_first =np.array([ [ random.randint(1, 11) for j in range(n)] for i in range(m) ])\n",
    "\n",
    "\n",
    "m = int(input('Количество строк у первой матрицы = '))\n",
    "n = int(input('Количество столбцов у первой матрицы = '))\n",
    "matrix_second = np.array([ [ random.randint(1, 11) for j in range(n)] for i in range(m)])\n",
    "print(f\"Первая матрица:\\n {matrix_first} \\n Вторая матрица:\\n {matrix_second}\")\n"
   ]
  },
  {
   "attachments": {},
   "cell_type": "markdown",
   "metadata": {},
   "source": [
    "ВЕКТОР + СКАЛЯР"
   ]
  },
  {
   "cell_type": "code",
   "execution_count": 3381,
   "metadata": {},
   "outputs": [],
   "source": [
    "def matsum_vector_scalar(vector, scalar):\n",
    "    return [v + scalar for v in vector]"
   ]
  },
  {
   "cell_type": "code",
   "execution_count": 3382,
   "metadata": {},
   "outputs": [
    {
     "name": "stdout",
     "output_type": "stream",
     "text": [
      "[8, 11] = [ 8 11]\n"
     ]
    }
   ],
   "source": [
    "print(f\"{matsum_vector_scalar(simple_vector_first, scalar_value)} = {simple_vector_first + scalar_value}\")"
   ]
  },
  {
   "attachments": {},
   "cell_type": "markdown",
   "metadata": {},
   "source": [
    "ВЕКТОР - СКАЛЯР"
   ]
  },
  {
   "cell_type": "code",
   "execution_count": 3383,
   "metadata": {},
   "outputs": [
    {
     "name": "stdout",
     "output_type": "stream",
     "text": [
      "[0, 3] = [0 3]\n"
     ]
    }
   ],
   "source": [
    "def minus_vector_scalar(vector, scalar):\n",
    "    return [v - scalar for v in vector]\n",
    "\n",
    "print(f\"{minus_vector_scalar(simple_vector_first, scalar_value)} = {simple_vector_first - scalar_value}\")"
   ]
  },
  {
   "attachments": {},
   "cell_type": "markdown",
   "metadata": {},
   "source": [
    "МАТРИЦА + СКАЛЯР"
   ]
  },
  {
   "cell_type": "code",
   "execution_count": 3384,
   "metadata": {},
   "outputs": [],
   "source": [
    "def matsum_matrix_scalar(matrix, scalar):\n",
    "    return [[v + scalar for v in row] for row in matrix]"
   ]
  },
  {
   "cell_type": "code",
   "execution_count": 3385,
   "metadata": {},
   "outputs": [
    {
     "name": "stdout",
     "output_type": "stream",
     "text": [
      "simple python: [[10, 10], [13, 10]]\n",
      "numpy: [[10, 10], [13, 10]]\n"
     ]
    }
   ],
   "source": [
    "\n",
    "print(f\"simple python: {matsum_matrix_scalar(matrix_first, scalar_value)}\\nnumpy: {(matrix_first + scalar_value).tolist()}\")"
   ]
  },
  {
   "attachments": {},
   "cell_type": "markdown",
   "metadata": {},
   "source": [
    "МАТРИЦА - СКАЛЯР"
   ]
  },
  {
   "cell_type": "code",
   "execution_count": 3386,
   "metadata": {},
   "outputs": [
    {
     "name": "stdout",
     "output_type": "stream",
     "text": [
      "simple python: [[2, 2], [5, 2]]\n",
      "numpy: [[2, 2], [5, 2]]\n"
     ]
    }
   ],
   "source": [
    "def minus_matrix_scalar(matrix, scalar):\n",
    "    return [[v - scalar for v in row] for row in matrix]\n",
    "\n",
    "print(f\"simple python: {minus_matrix_scalar(matrix_first, scalar_value)}\\nnumpy: {(matrix_first - scalar_value).tolist()}\")"
   ]
  },
  {
   "attachments": {},
   "cell_type": "markdown",
   "metadata": {},
   "source": [
    "ВЕКТОР + ВЕКТОР"
   ]
  },
  {
   "cell_type": "code",
   "execution_count": 3387,
   "metadata": {},
   "outputs": [],
   "source": [
    "def matsum_vector_vector(vector_first,vector_second):\n",
    "   if vector_first.shape == vector_second.shape:\n",
    "      return [i + j for i, j in zip(vector_first, vector_second)]\n",
    "   else:\n",
    "      print('Sorry,can not summarize vectors ')\n",
    "    "
   ]
  },
  {
   "cell_type": "code",
   "execution_count": 3388,
   "metadata": {},
   "outputs": [
    {
     "name": "stdout",
     "output_type": "stream",
     "text": [
      "python: [11, 15]\n"
     ]
    }
   ],
   "source": [
    "start = time.time() \n",
    "print(f\"python: {matsum_vector_vector(simple_vector_first, simple_vector_second)}\")\n",
    "end_python = time.time()-start"
   ]
  },
  {
   "cell_type": "code",
   "execution_count": 3389,
   "metadata": {},
   "outputs": [
    {
     "name": "stdout",
     "output_type": "stream",
     "text": [
      "numpy: [11, 15]\n",
      "The time using numpy 0.0 minus the time using python 0.0 equals 0.0\n"
     ]
    }
   ],
   "source": [
    "start = time.time() \n",
    "if simple_vector_first.shape == simple_vector_second.shape:\n",
    "    print(f\"numpy: {(simple_vector_first + simple_vector_second).tolist()}\")\n",
    "else:\n",
    "    print('Sorry,can not summarize vectors ')\n",
    "end_numpy = time.time()-start\n",
    "\n",
    "print(f\"The time using numpy {end_numpy} minus the time using python {end_python} equals {end_python - end_numpy}\")"
   ]
  },
  {
   "attachments": {},
   "cell_type": "markdown",
   "metadata": {},
   "source": [
    "ВЕКТОР -ВЕКТОР"
   ]
  },
  {
   "cell_type": "code",
   "execution_count": 3390,
   "metadata": {},
   "outputs": [],
   "source": [
    "def minus_vector_vector(vector_first,vector_second):\n",
    "   if vector_first.shape == vector_second.shape:\n",
    "      return [i - j for i, j in zip(vector_first, vector_second)]\n",
    "   else:\n",
    "      print('Sorry,can not minus vectors ')"
   ]
  },
  {
   "cell_type": "code",
   "execution_count": 3391,
   "metadata": {},
   "outputs": [
    {
     "name": "stdout",
     "output_type": "stream",
     "text": [
      "python: [-3, -1]\n"
     ]
    }
   ],
   "source": [
    "start = time.time() \n",
    "print(f\"python: {minus_vector_vector(simple_vector_first, simple_vector_second)}\")\n",
    "end_python = time.time()-start"
   ]
  },
  {
   "cell_type": "code",
   "execution_count": 3392,
   "metadata": {},
   "outputs": [
    {
     "name": "stdout",
     "output_type": "stream",
     "text": [
      "numpy: [-3, -1]\n",
      "The time using numpy 0.0010161399841308594 minus the time using python 0.0 equals -0.0010161399841308594\n"
     ]
    }
   ],
   "source": [
    "start = time.time() \n",
    "if simple_vector_first.shape == simple_vector_second.shape:\n",
    "    print(f\"numpy: {(simple_vector_first - simple_vector_second).tolist()}\")\n",
    "else:\n",
    "    print('Sorry,can not minus vectors ')\n",
    "end_numpy = time.time()-start\n",
    "\n",
    "print(f\"The time using numpy {end_numpy} minus the time using python {end_python} equals {end_python - end_numpy}\")"
   ]
  },
  {
   "attachments": {},
   "cell_type": "markdown",
   "metadata": {},
   "source": [
    "ВЕКТОР + МАТРИЦА"
   ]
  },
  {
   "cell_type": "code",
   "execution_count": 3393,
   "metadata": {},
   "outputs": [],
   "source": [
    "def matsum_vector_matrix(simple_vector,matrix):\n",
    "   if simple_vector.shape[0] == matrix.shape[1]:\n",
    "      return np.array([i + j for i, j in zip(simple_vector, matrix.T)])\n",
    "   else:\n",
    "      print('Sorry,can not summarize vector and matrix')\n"
   ]
  },
  {
   "cell_type": "code",
   "execution_count": 3394,
   "metadata": {},
   "outputs": [
    {
     "name": "stdout",
     "output_type": "stream",
     "text": [
      "python: [[10, 13], [13, 13]]\n"
     ]
    }
   ],
   "source": [
    "start = time.time() \n",
    "print(f\"python: {matsum_vector_matrix(simple_vector_first, matrix_first).T.tolist()}\")\n",
    "end_python = time.time()-start"
   ]
  },
  {
   "cell_type": "code",
   "execution_count": 3395,
   "metadata": {},
   "outputs": [
    {
     "name": "stdout",
     "output_type": "stream",
     "text": [
      "numpy: [[10, 13], [13, 13]]\n",
      "The time using numpy 0.0 minus the time using python 0.0009980201721191406 equals 0.0009980201721191406\n"
     ]
    }
   ],
   "source": [
    "start = time.time() \n",
    "if simple_vector_first.shape[0] == matrix_first.shape[1]:\n",
    "    print(f\"numpy: {(simple_vector_first + matrix_first).tolist()}\")\n",
    "else:\n",
    "    print('Sorry,can not summarize vectors ')\n",
    "end_numpy = time.time()-start\n",
    "\n",
    "print(f\"The time using numpy {end_numpy} minus the time using python {end_python} equals {end_python - end_numpy}\")"
   ]
  },
  {
   "attachments": {},
   "cell_type": "markdown",
   "metadata": {},
   "source": [
    "МАТРИЦА - ВЕКТОР"
   ]
  },
  {
   "cell_type": "code",
   "execution_count": 3396,
   "metadata": {},
   "outputs": [],
   "source": [
    "def minus_vector_matrix(simple_vector,matrix):\n",
    "   if simple_vector.shape[0] == matrix.shape[1]:\n",
    "      return np.array([i - j for i, j in zip( matrix.T, simple_vector)])\n",
    "   else:\n",
    "      print('Sorry,can not matrix minus vector ')"
   ]
  },
  {
   "cell_type": "code",
   "execution_count": 3397,
   "metadata": {},
   "outputs": [
    {
     "name": "stdout",
     "output_type": "stream",
     "text": [
      "python: [[2, -1], [5, -1]]\n"
     ]
    }
   ],
   "source": [
    "start = time.time() \n",
    "print(f\"python: {minus_vector_matrix(simple_vector_first, matrix_first).T.tolist()}\")\n",
    "end_python = time.time()-start"
   ]
  },
  {
   "cell_type": "code",
   "execution_count": 3398,
   "metadata": {},
   "outputs": [
    {
     "name": "stdout",
     "output_type": "stream",
     "text": [
      "numpy: [[2, -1], [5, -1]]\n",
      "The time using numpy 0.0 minus the time using python 0.0 equals 0.0\n"
     ]
    }
   ],
   "source": [
    "start = time.time() \n",
    "if simple_vector_first.shape[0] == matrix_first.shape[1]:\n",
    "    print(f\"numpy: {(matrix_first - simple_vector_first ).tolist()}\")\n",
    "else:\n",
    "    print('Sorry,can not matrix minus vector ')\n",
    "end_numpy = time.time()-start\n",
    "\n",
    "print(f\"The time using numpy {end_numpy} minus the time using python {end_python} equals {end_python - end_numpy}\")"
   ]
  },
  {
   "attachments": {},
   "cell_type": "markdown",
   "metadata": {},
   "source": [
    "МАТРИЦА + МАТРИЦА"
   ]
  },
  {
   "cell_type": "code",
   "execution_count": 3399,
   "metadata": {},
   "outputs": [],
   "source": [
    "def matsum_matrix_matrix(matrix_first,matrix_second):\n",
    "   if matrix_first.shape == matrix_second.shape:\n",
    "      return np.array([i + j for i, j in zip(matrix_first, matrix_second)])\n",
    "   else:\n",
    "       print('Sorry,can not summarize matrixes')\n",
    "   \n"
   ]
  },
  {
   "cell_type": "code",
   "execution_count": 3400,
   "metadata": {},
   "outputs": [
    {
     "name": "stdout",
     "output_type": "stream",
     "text": [
      "python: [[7, 13], [13, 15]]\n"
     ]
    }
   ],
   "source": [
    "start = time.time() \n",
    "print(f\"python: {matsum_matrix_matrix(matrix_first, matrix_second).tolist()}\")\n",
    "end_python = time.time()-start"
   ]
  },
  {
   "cell_type": "code",
   "execution_count": 3401,
   "metadata": {},
   "outputs": [
    {
     "name": "stdout",
     "output_type": "stream",
     "text": [
      "numpy: [[7, 13], [13, 15]]\n",
      "The time using numpy 0.0009992122650146484 minus the time using python 0.0009982585906982422 equals -9.5367431640625e-07\n"
     ]
    }
   ],
   "source": [
    "start = time.time() \n",
    "if matrix_first.shape == matrix_second.shape:\n",
    "    print(f\"numpy: {(matrix_first + matrix_second).tolist()}\")\n",
    "else:\n",
    "    print('Sorry,can not summarize matrixes')\n",
    "end_numpy = time.time()-start\n",
    "\n",
    "print(f\"The time using numpy {end_numpy} minus the time using python {end_python} equals {end_python - end_numpy}\")"
   ]
  },
  {
   "attachments": {},
   "cell_type": "markdown",
   "metadata": {},
   "source": [
    "МАТРИЦА - МАТРИЦА"
   ]
  },
  {
   "cell_type": "code",
   "execution_count": 3402,
   "metadata": {},
   "outputs": [],
   "source": [
    "def minus_matrix_matrix(matrix_first,matrix_second):\n",
    "   if matrix_first.shape == matrix_second.shape:\n",
    "      return np.array([i - j for i, j in zip(matrix_first, matrix_second)])\n",
    "   else:\n",
    "       print('Sorry,can not matrix minus matrix')"
   ]
  },
  {
   "cell_type": "code",
   "execution_count": 3403,
   "metadata": {},
   "outputs": [
    {
     "name": "stdout",
     "output_type": "stream",
     "text": [
      "python: [[5, -1], [5, -3]]\n"
     ]
    }
   ],
   "source": [
    "start = time.time() \n",
    "print(f\"python: {minus_matrix_matrix(matrix_first, matrix_second).tolist()}\")\n",
    "end_python = time.time()-start"
   ]
  },
  {
   "cell_type": "code",
   "execution_count": 3404,
   "metadata": {},
   "outputs": [
    {
     "name": "stdout",
     "output_type": "stream",
     "text": [
      "numpy: [[5, -1], [5, -3]]\n",
      "The time using numpy 0.0 minus the time using python 0.000997781753540039 equals 0.000997781753540039\n"
     ]
    }
   ],
   "source": [
    "start = time.time() \n",
    "if matrix_first.shape == matrix_second.shape:\n",
    "    print(f\"numpy: {(matrix_first - matrix_second).tolist()}\")\n",
    "else:\n",
    "    print('Sorry,can not matrix minus matrix')\n",
    "end_numpy = time.time()-start\n",
    "\n",
    "print(f\"The time using numpy {end_numpy} minus the time using python {end_python} equals {end_python - end_numpy}\")"
   ]
  },
  {
   "attachments": {},
   "cell_type": "markdown",
   "metadata": {},
   "source": [
    "ВЕКТОР * СКАЛЯР\n"
   ]
  },
  {
   "cell_type": "code",
   "execution_count": 3405,
   "metadata": {},
   "outputs": [],
   "source": [
    "def matmul_vector_scalar(vector, scalar):\n",
    "    return [v * scalar for v in vector]"
   ]
  },
  {
   "cell_type": "code",
   "execution_count": 3406,
   "metadata": {},
   "outputs": [
    {
     "name": "stdout",
     "output_type": "stream",
     "text": [
      "[16, 28] = [16 28]\n"
     ]
    }
   ],
   "source": [
    "print(f\"{matmul_vector_scalar(simple_vector_first, scalar_value)} = {np.dot(simple_vector_first, scalar_value)}\")\n"
   ]
  },
  {
   "attachments": {},
   "cell_type": "markdown",
   "metadata": {},
   "source": [
    "МАТРИЦА * СКАЛЯР"
   ]
  },
  {
   "cell_type": "code",
   "execution_count": 3407,
   "metadata": {},
   "outputs": [],
   "source": [
    "def matmul_matrix_scalar(matrix, scalar):\n",
    "    return [[v * scalar for v in row]for row in matrix ]"
   ]
  },
  {
   "cell_type": "code",
   "execution_count": 3408,
   "metadata": {},
   "outputs": [
    {
     "name": "stdout",
     "output_type": "stream",
     "text": [
      "python: [[24, 24], [36, 24]] \n",
      "numpy: [[24, 24], [36, 24]]\n"
     ]
    }
   ],
   "source": [
    "print(f\"python: {matmul_matrix_scalar(matrix_first, scalar_value)} \\nnumpy: {np.dot(matrix_first, scalar_value).tolist()}\")"
   ]
  },
  {
   "attachments": {},
   "cell_type": "markdown",
   "metadata": {},
   "source": [
    "ВЕКТОР * ВЕКТОР"
   ]
  },
  {
   "cell_type": "code",
   "execution_count": 3409,
   "metadata": {},
   "outputs": [],
   "source": [
    "def matmul_vector_vector(vector_first, vector_second):\n",
    "    if vector_first.shape == vector_second.shape:\n",
    "      tmp = 0\n",
    "      for i, j in zip(vector_first, vector_second):\n",
    "         tmp+=i*j\n",
    "      return tmp\n",
    "    else:\n",
    "      print('Sorry,can not multiply vectors ')"
   ]
  },
  {
   "cell_type": "code",
   "execution_count": 3410,
   "metadata": {},
   "outputs": [
    {
     "name": "stdout",
     "output_type": "stream",
     "text": [
      "python: 84\n"
     ]
    }
   ],
   "source": [
    "start = time.time() \n",
    "print(f\"python: {matmul_vector_vector(simple_vector_first, simple_vector_second)}\")\n",
    "end_python = time.time()-start"
   ]
  },
  {
   "cell_type": "code",
   "execution_count": 3411,
   "metadata": {},
   "outputs": [
    {
     "name": "stdout",
     "output_type": "stream",
     "text": [
      "numpy: 84\n",
      "The time using numpy 0.0 minus the time using python 0.0 equals 0.0\n"
     ]
    }
   ],
   "source": [
    "start = time.time() \n",
    "if simple_vector_first.shape == simple_vector_second.shape:\n",
    "    print(f\"numpy: {np.dot(simple_vector_first, simple_vector_second).tolist()}\")\n",
    "else:\n",
    "    print('Sorry,can not multiply vectors ')\n",
    "end_numpy = time.time()-start\n",
    "\n",
    "print(f\"The time using numpy {end_numpy} minus the time using python {end_python} equals {end_python - end_numpy}\")"
   ]
  },
  {
   "attachments": {},
   "cell_type": "markdown",
   "metadata": {},
   "source": [
    "ВЕКТОР * МАТРИЦА\n"
   ]
  },
  {
   "cell_type": "code",
   "execution_count": 3412,
   "metadata": {},
   "outputs": [],
   "source": [
    "def matmul_vector_matrix(vector,matrix):\n",
    "    result = []\n",
    "    if vector.shape[0] == matrix.shape[0]:\n",
    "        for row in matrix:\n",
    "            tmp = 0\n",
    "            for v,m_v in zip(vector,row):\n",
    "                tmp+=m_v*v\n",
    "            result.append(tmp)\n",
    "        return result \n",
    "    else:\n",
    "         print('Sorry,can not multiply vector and matrix ')\n",
    " \n"
   ]
  },
  {
   "cell_type": "code",
   "execution_count": 3413,
   "metadata": {},
   "outputs": [
    {
     "name": "stdout",
     "output_type": "stream",
     "text": [
      "[87, 66]\n"
     ]
    }
   ],
   "source": [
    "start = time.time() \n",
    "print(matmul_vector_matrix(simple_vector_first,matrix_first.T))\n",
    "end_python = time.time()-start"
   ]
  },
  {
   "cell_type": "code",
   "execution_count": 3414,
   "metadata": {},
   "outputs": [
    {
     "name": "stdout",
     "output_type": "stream",
     "text": [
      "[87 66]\n",
      "The time using numpy 0.0 minus the time using python 0.0009975433349609375 equals 0.0009975433349609375\n"
     ]
    }
   ],
   "source": [
    "start = time.time() \n",
    "if simple_vector_first.shape[0] == matrix_first.shape[0]:\n",
    "    \n",
    "    print(np.dot(simple_vector_first, matrix_first))\n",
    "else:\n",
    "    print('Sorry,can not multiply vectors ')\n",
    "    end_numpy = time.time()-start\n",
    "\n",
    "print(f\"The time using numpy {end_numpy} minus the time using python {end_python} equals {end_python - end_numpy}\")"
   ]
  },
  {
   "attachments": {},
   "cell_type": "markdown",
   "metadata": {},
   "source": [
    "МАТРИЦА * МАТРИЦА"
   ]
  },
  {
   "attachments": {},
   "cell_type": "markdown",
   "metadata": {},
   "source": [
    "1-й вариант"
   ]
  },
  {
   "cell_type": "code",
   "execution_count": 3415,
   "metadata": {},
   "outputs": [],
   "source": [
    "def matmul_matrix_matrix(matrix_first,matrix_second):\n",
    "     global matrix_third\n",
    "     if  matrix_first.shape[1] == matrix_second.shape[0]:\n",
    "        matrix_third = np.zeros((matrix_first.shape[0],matrix_second.shape[1]),dtype = int)\n",
    "        for row in range(matrix_first.shape[0]): \n",
    "            for col in range(matrix_second.shape[1]):\n",
    "                 for elt in range(len(matrix_second)):\n",
    "                    matrix_third[row, col] += matrix_first[row, elt] * matrix_second[elt, col]\n",
    "        return matrix_third.tolist()\n",
    "     else:\n",
    "        return \"Sorry, cannot multiply A and B.\"\n",
    " "
   ]
  },
  {
   "cell_type": "code",
   "execution_count": 3421,
   "metadata": {},
   "outputs": [
    {
     "name": "stdout",
     "output_type": "stream",
     "text": [
      "python: [[30, 96], [33, 117]]\n"
     ]
    }
   ],
   "source": [
    "start = time.time()\n",
    "print(f\"python: {matmul_matrix_matrix(matrix_first,matrix_second)}\")  \n",
    "end_python = time.time() - start\n"
   ]
  },
  {
   "cell_type": "code",
   "execution_count": 3422,
   "metadata": {},
   "outputs": [
    {
     "name": "stdout",
     "output_type": "stream",
     "text": [
      "numpy: [[30, 96], [33, 117]]\n",
      "The time using numpy 0.001997232437133789 minus the time using python 0.0019958019256591797 equals -1.430511474609375e-06\n"
     ]
    }
   ],
   "source": [
    "start = time.time()\n",
    "print(f\"numpy: {np.dot(matrix_first,matrix_second).tolist()}\")\n",
    "end_numpy = time.time() - start\n",
    "print(f\"The time using numpy {end_numpy} minus the time using python {end_python} equals {end_python - end_numpy}\")"
   ]
  },
  {
   "attachments": {},
   "cell_type": "markdown",
   "metadata": {},
   "source": [
    "2-ой вариант"
   ]
  },
  {
   "cell_type": "code",
   "execution_count": 3423,
   "metadata": {},
   "outputs": [],
   "source": [
    "\n",
    "def matmul_matrix_matrix_second(matrix_first,matrix_second):\n",
    "     global matrix_third\n",
    "     if  matrix_first.shape[1] == matrix_second.shape[0]:\n",
    "        matrix_third = np.array([[sum(a*b for a,b in zip(A_row, B_col)) for B_col in zip(*matrix_second)] \n",
    "           for A_row in matrix_first])\n",
    "        return matrix_third.tolist()\n",
    "     else:\n",
    "        return \"Sorry, cannot multiply matrix.\"\n",
    "     \n",
    "     \n"
   ]
  },
  {
   "cell_type": "code",
   "execution_count": 3424,
   "metadata": {},
   "outputs": [
    {
     "name": "stdout",
     "output_type": "stream",
     "text": [
      "python: [[30, 96], [33, 117]]\n"
     ]
    }
   ],
   "source": [
    "start = time.time()\n",
    "print(f\"python: {matmul_matrix_matrix_second(matrix_first,matrix_second)}\")  \n",
    "end_python_ = time.time() - start"
   ]
  },
  {
   "cell_type": "code",
   "execution_count": 3425,
   "metadata": {},
   "outputs": [
    {
     "name": "stdout",
     "output_type": "stream",
     "text": [
      "numpy: [[30, 96], [33, 117]]\n",
      "The time using numpy 0.00099945068359375 minus the time using python 0.0019958019256591797 equals 0.0009963512420654297\n"
     ]
    }
   ],
   "source": [
    "start = time.time()\n",
    "print(f\"numpy: {np.dot(matrix_first, matrix_second).tolist()}\")\n",
    "end_numpy = time.time() - start\n",
    "print(f\"The time using numpy {end_numpy} minus the time using python {end_python} equals {end_python - end_numpy}\")"
   ]
  }
 ],
 "metadata": {
  "kernelspec": {
   "display_name": "Python 3",
   "language": "python",
   "name": "python3"
  },
  "language_info": {
   "codemirror_mode": {
    "name": "ipython",
    "version": 3
   },
   "file_extension": ".py",
   "mimetype": "text/x-python",
   "name": "python",
   "nbconvert_exporter": "python",
   "pygments_lexer": "ipython3",
   "version": "3.11.0"
  },
  "orig_nbformat": 4
 },
 "nbformat": 4,
 "nbformat_minor": 2
}
