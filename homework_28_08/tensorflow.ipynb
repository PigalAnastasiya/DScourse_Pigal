{
 "cells": [
  {
   "cell_type": "code",
   "execution_count": 72,
   "metadata": {},
   "outputs": [],
   "source": [
    "import keras\n",
    "import matplotlib.pyplot as plt\n",
    "import tensorflow as tf\n",
    "\n",
    "from sklearn.model_selection import train_test_split\n",
    "from keras.utils import to_categorical\n",
    "\n",
    "from tensorflow.keras.models import Sequential\n",
    "from tensorflow.keras import datasets,layers, models\n",
    "from tensorflow.keras.layers import Dense, Conv2D,Flatten, Dropout, BatchNormalization, MaxPooling2D, RandomFlip, RandomRotation\n",
    "from tensorflow.keras.optimizers import SGD\n",
    "from tensorflow.keras.preprocessing.image import ImageDataGenerator\n",
    "from tensorflow.keras import layers, models, optimizers, losses"
   ]
  },
  {
   "cell_type": "code",
   "execution_count": 73,
   "metadata": {},
   "outputs": [],
   "source": [
    "(train_images, train_labels), (test_images, test_labels) = datasets.cifar10.load_data()\n",
    "\n",
    "# Нормализация данных и преобразование меток в one-hot encoding\n",
    "train_images = train_images.reshape((50000, 32, 32, 3))\n",
    "train_images = train_images.astype('float32') / 255\n",
    "\n",
    "test_images = test_images.reshape((10000, 32, 32, 3))\n",
    "test_images = test_images.astype('float32') / 255\n",
    "\n",
    "train_labels = to_categorical(train_labels)\n",
    "test_labels = to_categorical(test_labels)"
   ]
  },
  {
   "cell_type": "code",
   "execution_count": 74,
   "metadata": {},
   "outputs": [],
   "source": [
    "model = Sequential()\n",
    "model.add(layers.Flatten(input_shape=(32, 32, 3)))\n",
    "model.add(Dense(520, activation='relu'))\n",
    "model.add(Dense(10, activation='softmax'))\n"
   ]
  },
  {
   "cell_type": "code",
   "execution_count": 75,
   "metadata": {},
   "outputs": [],
   "source": [
    "\n",
    "\n",
    "model.compile(optimizer='rmsprop',\n",
    "              loss='categorical_crossentropy',\n",
    "              metrics=['accuracy'])\n"
   ]
  },
  {
   "cell_type": "code",
   "execution_count": 76,
   "metadata": {},
   "outputs": [
    {
     "name": "stdout",
     "output_type": "stream",
     "text": [
      "Epoch 1/5\n",
      "391/391 [==============================] - 9s 22ms/step - loss: 2.2283 - accuracy: 0.2693 - val_loss: 1.8324 - val_accuracy: 0.3456\n",
      "Epoch 2/5\n",
      "391/391 [==============================] - 8s 20ms/step - loss: 1.7925 - accuracy: 0.3589 - val_loss: 1.8546 - val_accuracy: 0.3294\n",
      "Epoch 3/5\n",
      "391/391 [==============================] - 8s 20ms/step - loss: 1.7069 - accuracy: 0.3909 - val_loss: 1.6562 - val_accuracy: 0.4140\n",
      "Epoch 4/5\n",
      "391/391 [==============================] - 8s 20ms/step - loss: 1.6505 - accuracy: 0.4119 - val_loss: 1.6471 - val_accuracy: 0.4149\n",
      "Epoch 5/5\n",
      "391/391 [==============================] - 9s 23ms/step - loss: 1.6111 - accuracy: 0.4273 - val_loss: 1.6032 - val_accuracy: 0.4359\n"
     ]
    },
    {
     "data": {
      "text/plain": [
       "<keras.src.callbacks.History at 0x231e9defa90>"
      ]
     },
     "execution_count": 76,
     "metadata": {},
     "output_type": "execute_result"
    }
   ],
   "source": [
    "model.fit(train_images, train_labels, epochs=5, batch_size=128, \n",
    "          validation_data=(test_images, test_labels))"
   ]
  },
  {
   "cell_type": "code",
   "execution_count": 77,
   "metadata": {},
   "outputs": [
    {
     "name": "stdout",
     "output_type": "stream",
     "text": [
      "313/313 [==============================] - 2s 5ms/step - loss: 1.6032 - accuracy: 0.4359\n",
      "Accuracy on the test set: 43.59%\n"
     ]
    }
   ],
   "source": [
    "test_loss, test_acc = model.evaluate(test_images, test_labels)\n",
    "print(f\"Accuracy on the test set: {test_acc * 100:.2f}%\")"
   ]
  },
  {
   "cell_type": "markdown",
   "metadata": {},
   "source": [
    "________________"
   ]
  },
  {
   "cell_type": "code",
   "execution_count": 116,
   "metadata": {},
   "outputs": [],
   "source": [
    "\n",
    "(x_train, y_train), (x_test, y_test) = datasets.cifar10.load_data()\n",
    "\n",
    "x_train = x_train / 255\n",
    "x_test = x_test / 255\n",
    "\n",
    "y_train = keras.utils.to_categorical(y_train, 10)\n",
    "y_test = keras.utils.to_categorical(y_test, 10)"
   ]
  },
  {
   "cell_type": "code",
   "execution_count": 117,
   "metadata": {},
   "outputs": [],
   "source": [
    "input= keras.Input(shape=(32,32,3))\n",
    "x=Conv2D(32,3,activation ='relu')(input)\n",
    "x=MaxPooling2D(2,padding='same')(x)\n",
    "x=Conv2D(64,3,activation='relu')(x)\n",
    "x=MaxPooling2D(2,padding = 'same')(x)\n",
    "x=Flatten()(x)\n",
    "x=Dense(256,activation='relu')(x)\n",
    "x=Dropout(0.5)(x)\n",
    "output = Dense(10,activation='softmax')(x)"
   ]
  },
  {
   "cell_type": "code",
   "execution_count": 118,
   "metadata": {},
   "outputs": [
    {
     "name": "stdout",
     "output_type": "stream",
     "text": [
      "Model: \"toy_resnet\"\n",
      "__________________________________________________________________________________________________\n",
      " Layer (type)                Output Shape                 Param #   Connected to                  \n",
      "==================================================================================================\n",
      " img (InputLayer)            [(None, 32, 32, 3)]          0         []                            \n",
      "                                                                                                  \n",
      " conv2d_18 (Conv2D)          (None, 30, 30, 32)           896       ['img[0][0]']                 \n",
      "                                                                                                  \n",
      " conv2d_19 (Conv2D)          (None, 28, 28, 64)           18496     ['conv2d_18[0][0]']           \n",
      "                                                                                                  \n",
      " max_pooling2d_18 (MaxPooli  (None, 9, 9, 64)             0         ['conv2d_19[0][0]']           \n",
      " ng2D)                                                                                            \n",
      "                                                                                                  \n",
      " conv2d_20 (Conv2D)          (None, 9, 9, 64)             36928     ['max_pooling2d_18[0][0]']    \n",
      "                                                                                                  \n",
      " conv2d_21 (Conv2D)          (None, 9, 9, 64)             36928     ['conv2d_20[0][0]']           \n",
      "                                                                                                  \n",
      " add (Add)                   (None, 9, 9, 64)             0         ['conv2d_21[0][0]',           \n",
      "                                                                     'max_pooling2d_18[0][0]']    \n",
      "                                                                                                  \n",
      " conv2d_22 (Conv2D)          (None, 9, 9, 64)             36928     ['add[0][0]']                 \n",
      "                                                                                                  \n",
      " conv2d_23 (Conv2D)          (None, 9, 9, 64)             36928     ['conv2d_22[0][0]']           \n",
      "                                                                                                  \n",
      " add_1 (Add)                 (None, 9, 9, 64)             0         ['conv2d_23[0][0]',           \n",
      "                                                                     'add[0][0]']                 \n",
      "                                                                                                  \n",
      " conv2d_24 (Conv2D)          (None, 7, 7, 64)             36928     ['add_1[0][0]']               \n",
      "                                                                                                  \n",
      " global_average_pooling2d (  (None, 64)                   0         ['conv2d_24[0][0]']           \n",
      " GlobalAveragePooling2D)                                                                          \n",
      "                                                                                                  \n",
      " dense_28 (Dense)            (None, 256)                  16640     ['global_average_pooling2d[0][\n",
      "                                                                    0]']                          \n",
      "                                                                                                  \n",
      " dropout_9 (Dropout)         (None, 256)                  0         ['dense_28[0][0]']            \n",
      "                                                                                                  \n",
      " dense_29 (Dense)            (None, 10)                   2570      ['dropout_9[0][0]']           \n",
      "                                                                                                  \n",
      "==================================================================================================\n",
      "Total params: 223242 (872.04 KB)\n",
      "Trainable params: 223242 (872.04 KB)\n",
      "Non-trainable params: 0 (0.00 Byte)\n",
      "__________________________________________________________________________________________________\n"
     ]
    }
   ],
   "source": [
    "model = keras.Model(inputs, outputs, name=\"toy_resnet\")\n",
    "model.summary()"
   ]
  },
  {
   "cell_type": "code",
   "execution_count": 119,
   "metadata": {},
   "outputs": [],
   "source": [
    "model.compile(optimizer='adam',\n",
    "             loss='categorical_crossentropy',\n",
    "             metrics=['accuracy'])\n",
    "\n"
   ]
  },
  {
   "cell_type": "code",
   "execution_count": 121,
   "metadata": {},
   "outputs": [
    {
     "name": "stdout",
     "output_type": "stream",
     "text": [
      "Epoch 1/5\n",
      "625/625 [==============================] - 106s 169ms/step - loss: 1.7215 - accuracy: 0.3231 - val_loss: 1.4815 - val_accuracy: 0.4418\n",
      "Epoch 2/5\n",
      "625/625 [==============================] - 102s 163ms/step - loss: 1.3721 - accuracy: 0.4896 - val_loss: 1.1998 - val_accuracy: 0.5594\n",
      "Epoch 3/5\n",
      "625/625 [==============================] - 108s 173ms/step - loss: 1.1438 - accuracy: 0.5867 - val_loss: 1.0235 - val_accuracy: 0.6319\n",
      "Epoch 4/5\n",
      "625/625 [==============================] - 109s 175ms/step - loss: 0.9869 - accuracy: 0.6441 - val_loss: 0.8855 - val_accuracy: 0.6782\n",
      "Epoch 5/5\n",
      "625/625 [==============================] - 110s 176ms/step - loss: 0.8787 - accuracy: 0.6839 - val_loss: 0.8773 - val_accuracy: 0.6802\n"
     ]
    },
    {
     "data": {
      "text/plain": [
       "<keras.src.callbacks.History at 0x231e5ae7750>"
      ]
     },
     "execution_count": 121,
     "metadata": {},
     "output_type": "execute_result"
    }
   ],
   "source": [
    "model.fit(x_train, y_train, batch_size=64, epochs=5, validation_split=0.2)\n"
   ]
  },
  {
   "cell_type": "code",
   "execution_count": 123,
   "metadata": {},
   "outputs": [
    {
     "name": "stdout",
     "output_type": "stream",
     "text": [
      "313/313 [==============================] - 5s 17ms/step - loss: 0.9040 - accuracy: 0.6665\n",
      "[0.9039990305900574, 0.6664999723434448]\n"
     ]
    }
   ],
   "source": [
    "\n",
    "print( model.evaluate(x_test, y_test) )"
   ]
  }
 ],
 "metadata": {
  "kernelspec": {
   "display_name": "Python 3",
   "language": "python",
   "name": "python3"
  },
  "language_info": {
   "codemirror_mode": {
    "name": "ipython",
    "version": 3
   },
   "file_extension": ".py",
   "mimetype": "text/x-python",
   "name": "python",
   "nbconvert_exporter": "python",
   "pygments_lexer": "ipython3",
   "version": "3.11.0"
  },
  "orig_nbformat": 4
 },
 "nbformat": 4,
 "nbformat_minor": 2
}
