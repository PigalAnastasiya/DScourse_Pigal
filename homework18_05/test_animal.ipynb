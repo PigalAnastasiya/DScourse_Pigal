{
 "cells": [
  {
   "cell_type": "code",
   "execution_count": 1,
   "metadata": {},
   "outputs": [],
   "source": [
    "import sys\n",
    "import random\n",
    "\n",
    "from abc import ABC, abstractmethod\n",
    "\n",
    "class Animal(ABC):\n",
    "    def __init__(self, name, age, voice, food):\n",
    "        self.__name = name\n",
    "        self.__age = age\n",
    "        self.voice = voice\n",
    "        self.food = food\n",
    "        self.__tail = random.randint(0,10)\n",
    "        \n",
    "    ''' @abstractmethod\n",
    "    def move(self):\n",
    "        pass\n",
    "    @abstractmethod\n",
    "    def say(self):\n",
    "        pass'''\n",
    "    \n",
    "    @property\n",
    "    def get_name(self):\n",
    "        return f\"Имя: {self.__name}\"\n",
    "    \n",
    "    @property\n",
    "    def get_age(self):\n",
    "        return f\"Возраст: {self.__age}\"\n",
    "\n",
    "    @get_age.setter\n",
    "    def set_age(self, age):\n",
    "        if 1 < age < 110:\n",
    "            self.__age = age\n",
    "        else:\n",
    "            print(\"Недопустимый возраст\")\n",
    "        \n",
    "    def display_info(self):\n",
    "        print(f\"Имя: {self.__name}\\tВозраст: {self.__age}\")\n",
    "        \n",
    "    def voice_animal(self):\n",
    "         print (f\"{self.__name} издает звук {self.voice}\")\n",
    "\n",
    "\n",
    "    def animal_eating(self):\n",
    "        print(f\"{self.__name} каждый день ест {self.food}\")\n",
    "\n",
    "\n",
    "\n",
    "    def get_tail_info(self):\n",
    "        print (f\"Длина хвоста {self.__tail} см\")         "
   ]
  },
  {
   "cell_type": "code",
   "execution_count": 2,
   "metadata": {},
   "outputs": [],
   "source": [
    "animal = Animal(\"Wolf\", 25, \"Yyyy\", \"meet\")"
   ]
  },
  {
   "cell_type": "code",
   "execution_count": 3,
   "metadata": {},
   "outputs": [],
   "source": [
    "animal.__name=\"fhfhf\""
   ]
  },
  {
   "cell_type": "code",
   "execution_count": 4,
   "metadata": {},
   "outputs": [
    {
     "data": {
      "text/plain": [
       "'fhfhf'"
      ]
     },
     "execution_count": 4,
     "metadata": {},
     "output_type": "execute_result"
    }
   ],
   "source": [
    "animal.__name"
   ]
  },
  {
   "cell_type": "code",
   "execution_count": 5,
   "metadata": {},
   "outputs": [
    {
     "data": {
      "text/plain": [
       "'fhfhf'"
      ]
     },
     "execution_count": 5,
     "metadata": {},
     "output_type": "execute_result"
    }
   ],
   "source": [
    "animal.__name"
   ]
  }
 ],
 "metadata": {
  "kernelspec": {
   "display_name": "Python 3",
   "language": "python",
   "name": "python3"
  },
  "language_info": {
   "codemirror_mode": {
    "name": "ipython",
    "version": 3
   },
   "file_extension": ".py",
   "mimetype": "text/x-python",
   "name": "python",
   "nbconvert_exporter": "python",
   "pygments_lexer": "ipython3",
   "version": "3.11.0"
  },
  "orig_nbformat": 4
 },
 "nbformat": 4,
 "nbformat_minor": 2
}
