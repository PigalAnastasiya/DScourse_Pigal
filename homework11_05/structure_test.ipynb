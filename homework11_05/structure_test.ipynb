{
 "cells": [
  {
   "cell_type": "code",
   "execution_count": 17,
   "metadata": {},
   "outputs": [],
   "source": [
    "my_list = [2,45,3,-7,-4,0,6,1,90,-5,-7]"
   ]
  },
  {
   "cell_type": "code",
   "execution_count": null,
   "metadata": {},
   "outputs": [],
   "source": []
  },
  {
   "cell_type": "code",
   "execution_count": 18,
   "metadata": {},
   "outputs": [
    {
     "name": "stdout",
     "output_type": "stream",
     "text": [
      "[-7, -7, -5, -4, 0, 1, 2, 3, 6, 45, 90]\n"
     ]
    }
   ],
   "source": [
    "from modules.feature_engineering.list_sorting import sort_list\n",
    "print (sort_list(my_list)) "
   ]
  },
  {
   "cell_type": "code",
   "execution_count": 19,
   "metadata": {},
   "outputs": [
    {
     "data": {
      "text/plain": [
       "[-7, -4, 1, 3, 45]"
      ]
     },
     "execution_count": 19,
     "metadata": {},
     "output_type": "execute_result"
    }
   ],
   "source": [
    "from modules.feature_engineering.find_elements_for_odd_index import odd_index_list\n",
    "odd_index_list(my_list)"
   ]
  },
  {
   "cell_type": "code",
   "execution_count": 20,
   "metadata": {},
   "outputs": [
    {
     "name": "stdout",
     "output_type": "stream",
     "text": [
      "[-7, -7, -5, 1, 3, 45]\n"
     ]
    }
   ],
   "source": [
    "from modules.feature_engineering.find_odd_elements import odd_list\n",
    "\n",
    "print(odd_list (my_list))"
   ]
  },
  {
   "cell_type": "code",
   "execution_count": 21,
   "metadata": {},
   "outputs": [],
   "source": [
    "from modules.feature_engineering.writing_to_file import file_writting\n",
    "from modules.feature_engineering.find_odd_elements import odd_list\n",
    "file_writting('../homework11_05/data/odd_number.txt', 'w', odd_list (my_list) )"
   ]
  },
  {
   "cell_type": "code",
   "execution_count": 22,
   "metadata": {},
   "outputs": [],
   "source": [
    "from modules.feature_engineering.writing_to_file import file_writting\n",
    "from modules.feature_engineering.find_elements_for_odd_index import odd_index_list\n",
    "file_writting('../homework11_05/data/odd_index.txt', 'w', odd_index_list (my_list))"
   ]
  }
 ],
 "metadata": {
  "kernelspec": {
   "display_name": "Python 3",
   "language": "python",
   "name": "python3"
  },
  "language_info": {
   "codemirror_mode": {
    "name": "ipython",
    "version": 3
   },
   "file_extension": ".py",
   "mimetype": "text/x-python",
   "name": "python",
   "nbconvert_exporter": "python",
   "pygments_lexer": "ipython3",
   "version": "3.11.0"
  },
  "orig_nbformat": 4
 },
 "nbformat": 4,
 "nbformat_minor": 2
}
