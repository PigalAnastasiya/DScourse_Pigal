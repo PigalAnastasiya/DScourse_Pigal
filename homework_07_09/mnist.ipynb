{
 "cells": [
  {
   "cell_type": "code",
   "execution_count": 1,
   "metadata": {},
   "outputs": [],
   "source": [
    "import hyperopt\n",
    "import tensorflow as tf\n",
    "import keras\n",
    "from hyperopt import fmin, tpe, hp\n",
    "import matplotlib.pyplot as plt\n",
    "from tensorflow.keras.datasets import mnist\n",
    "from keras import utils\n",
    "from tensorflow.keras import layers\n",
    "from tensorflow.keras.layers import Dense,Dropout,Flatten\n",
    "from tensorflow.keras.models import Sequential\n",
    "from keras.optimizers import SGD\n",
    "from sklearn.datasets import make_classification\n",
    "from scikeras.wrappers import KerasClassifier"
   ]
  },
  {
   "cell_type": "markdown",
   "metadata": {},
   "source": [
    "## Преобразование данных"
   ]
  },
  {
   "cell_type": "markdown",
   "metadata": {},
   "source": [
    "**Будем использовать набор данных MNIST, который состоит из полутоновых изображений рукописных цифр (0–9), размер которых составляет 28x28 пикселей. Каждый пиксель имеет 8 бит, поэтому его значение колеблется от 0 до 255**"
   ]
  },
  {
   "cell_type": "code",
   "execution_count": 2,
   "metadata": {},
   "outputs": [
    {
     "data": {
      "text/plain": [
       "((60000, 28, 28), (60000,), (10000, 28, 28), (10000,))"
      ]
     },
     "execution_count": 2,
     "metadata": {},
     "output_type": "execute_result"
    }
   ],
   "source": [
    "# Загрузка данных\n",
    "(x_train, y_train),(x_test, y_test) = mnist.load_data()\n",
    "x_train.shape, y_train.shape, x_test.shape,y_test.shape"
   ]
  },
  {
   "cell_type": "code",
   "execution_count": 3,
   "metadata": {},
   "outputs": [],
   "source": [
    "# Нормализуем значения пикселей (дать им значения от 0 до 1)\n",
    "\n",
    "x_train, x_test = x_train / 255.0, x_test / 255.0"
   ]
  },
  {
   "cell_type": "code",
   "execution_count": 4,
   "metadata": {},
   "outputs": [],
   "source": [
    "# Преобразуем массивы 2D-изображений в 1D (сглаживаем их). \n",
    "# Выполнить это можно используя изменение формы массива с помощью numpy.reshape()\n",
    "# или keras.layers.Flatten который преобразует формат изображений из 2-мерного массива (размером 28 на 28 пикселей) \n",
    "# в 1-мерный массив размером 28 * 28 = 784 пикселей.\n",
    "\n",
    "x_train = x_train.reshape(60000, 784)\n",
    "x_test = x_test.reshape(10000, 784)\n"
   ]
  },
  {
   "cell_type": "code",
   "execution_count": 5,
   "metadata": {},
   "outputs": [
    {
     "data": {
      "text/plain": [
       "((10000, 10), (60000, 10))"
      ]
     },
     "execution_count": 5,
     "metadata": {},
     "output_type": "execute_result"
    }
   ],
   "source": [
    "# One Hot Encodingy\n",
    "y_train = utils.to_categorical(y_train, 10)\n",
    "y_test =utils. to_categorical(y_test, 10)\n",
    "y_test.shape, y_train.shape"
   ]
  },
  {
   "cell_type": "markdown",
   "metadata": {},
   "source": [
    "## Построение модели"
   ]
  },
  {
   "cell_type": "code",
   "execution_count": 6,
   "metadata": {},
   "outputs": [
    {
     "name": "stdout",
     "output_type": "stream",
     "text": [
      "Model: \"model\"\n",
      "_________________________________________________________________\n",
      " Layer (type)                Output Shape              Param #   \n",
      "=================================================================\n",
      " input_1 (InputLayer)        [(None, 784)]             0         \n",
      "                                                                 \n",
      " dense (Dense)               (None, 300)               235500    \n",
      "                                                                 \n",
      " dense_1 (Dense)             (None, 10)                3010      \n",
      "                                                                 \n",
      "=================================================================\n",
      "Total params: 238510 (931.68 KB)\n",
      "Trainable params: 238510 (931.68 KB)\n",
      "Non-trainable params: 0 (0.00 Byte)\n",
      "_________________________________________________________________\n"
     ]
    }
   ],
   "source": [
    "input = keras.Input(shape=(784,))\n",
    "layers_1 = layers.Dense(300,activation = 'relu')(input)\n",
    "layers_1 = layers.Dense(300,activation = 'relu')(layers_1)\n",
    "\n",
    "output = layers.Dense(10, activation = 'softmax')(layers_1)\n",
    "\n",
    "\n",
    "model = keras.Model(inputs=input,outputs = output)\n",
    "model.summary()"
   ]
  },
  {
   "cell_type": "code",
   "execution_count": 7,
   "metadata": {},
   "outputs": [],
   "source": [
    "model.compile(optimizer='adam',\n",
    "              loss = 'categorical_crossentropy',\n",
    "              metrics = ['accuracy'])"
   ]
  },
  {
   "cell_type": "code",
   "execution_count": 19,
   "metadata": {},
   "outputs": [
    {
     "name": "stdout",
     "output_type": "stream",
     "text": [
      "Epoch 1/20\n",
      "1500/1500 [==============================] - 4s 3ms/step - loss: 0.0083 - accuracy: 0.9976 - val_loss: 0.1135 - val_accuracy: 0.9728\n",
      "Epoch 2/20\n",
      "1500/1500 [==============================] - 4s 3ms/step - loss: 0.0083 - accuracy: 0.9974 - val_loss: 0.1122 - val_accuracy: 0.9750\n",
      "Epoch 3/20\n",
      "1500/1500 [==============================] - 5s 3ms/step - loss: 0.0086 - accuracy: 0.9973 - val_loss: 0.1076 - val_accuracy: 0.9783\n",
      "Epoch 4/20\n",
      "1500/1500 [==============================] - 5s 3ms/step - loss: 0.0073 - accuracy: 0.9975 - val_loss: 0.1151 - val_accuracy: 0.9785\n",
      "Epoch 5/20\n",
      "1500/1500 [==============================] - 5s 3ms/step - loss: 0.0077 - accuracy: 0.9973 - val_loss: 0.1098 - val_accuracy: 0.9791\n",
      "Epoch 6/20\n",
      "1500/1500 [==============================] - 5s 3ms/step - loss: 0.0055 - accuracy: 0.9982 - val_loss: 0.1229 - val_accuracy: 0.9763\n",
      "Epoch 7/20\n",
      "1500/1500 [==============================] - 5s 4ms/step - loss: 0.0071 - accuracy: 0.9978 - val_loss: 0.1119 - val_accuracy: 0.9803\n",
      "Epoch 8/20\n",
      "1500/1500 [==============================] - 5s 3ms/step - loss: 0.0035 - accuracy: 0.9990 - val_loss: 0.1043 - val_accuracy: 0.9802\n",
      "Epoch 9/20\n",
      "1500/1500 [==============================] - 5s 3ms/step - loss: 0.0062 - accuracy: 0.9979 - val_loss: 0.1041 - val_accuracy: 0.9805\n",
      "Epoch 10/20\n",
      "1500/1500 [==============================] - 5s 4ms/step - loss: 0.0046 - accuracy: 0.9985 - val_loss: 0.1288 - val_accuracy: 0.9760\n",
      "Epoch 11/20\n",
      "1500/1500 [==============================] - 5s 4ms/step - loss: 0.0058 - accuracy: 0.9982 - val_loss: 0.1084 - val_accuracy: 0.9811\n",
      "Epoch 12/20\n",
      "1500/1500 [==============================] - 5s 3ms/step - loss: 0.0043 - accuracy: 0.9986 - val_loss: 0.1257 - val_accuracy: 0.9794\n",
      "Epoch 13/20\n",
      "1500/1500 [==============================] - 5s 3ms/step - loss: 0.0031 - accuracy: 0.9991 - val_loss: 0.1279 - val_accuracy: 0.9790\n",
      "Epoch 14/20\n",
      "1500/1500 [==============================] - 5s 3ms/step - loss: 0.0058 - accuracy: 0.9979 - val_loss: 0.1289 - val_accuracy: 0.9810\n",
      "Epoch 15/20\n",
      "1500/1500 [==============================] - 5s 3ms/step - loss: 0.0042 - accuracy: 0.9985 - val_loss: 0.1441 - val_accuracy: 0.9769\n",
      "Epoch 16/20\n",
      "1500/1500 [==============================] - 5s 3ms/step - loss: 0.0056 - accuracy: 0.9983 - val_loss: 0.1249 - val_accuracy: 0.9802\n",
      "Epoch 17/20\n",
      "1500/1500 [==============================] - 5s 3ms/step - loss: 0.0039 - accuracy: 0.9989 - val_loss: 0.1421 - val_accuracy: 0.9778\n",
      "Epoch 18/20\n",
      "1500/1500 [==============================] - 5s 3ms/step - loss: 0.0037 - accuracy: 0.9988 - val_loss: 0.1681 - val_accuracy: 0.9757\n",
      "Epoch 19/20\n",
      "1500/1500 [==============================] - 5s 3ms/step - loss: 0.0043 - accuracy: 0.9988 - val_loss: 0.1768 - val_accuracy: 0.9759\n",
      "Epoch 20/20\n",
      "1500/1500 [==============================] - 5s 3ms/step - loss: 0.0044 - accuracy: 0.9985 - val_loss: 0.1539 - val_accuracy: 0.9791\n"
     ]
    }
   ],
   "source": [
    "his = model.fit(x_train, y_train, epochs=20, batch_size=32,validation_split=0.2)"
   ]
  },
  {
   "cell_type": "code",
   "execution_count": 20,
   "metadata": {},
   "outputs": [
    {
     "data": {
      "image/png": "[encoded data removed]",
      "text/plain": [
       "<Figure size 640x480 with 1 Axes>"
      ]
     },
     "metadata": {},
     "output_type": "display_data"
    }
   ],
   "source": [
    "plt.plot(his.history['loss'])\n",
    "plt.plot(his.history['val_loss'])\n",
    "plt.show()"
   ]
  },
  {
   "cell_type": "code",
   "execution_count": 16,
   "metadata": {},
   "outputs": [
    {
     "name": "stdout",
     "output_type": "stream",
     "text": [
      "Model: \"model_2\"\n",
      "_________________________________________________________________\n",
      " Layer (type)                Output Shape              Param #   \n",
      "=================================================================\n",
      " input_5 (InputLayer)        [(None, 784)]             0         \n",
      "                                                                 \n",
      " dense_8 (Dense)             (None, 300)               235500    \n",
      "                                                                 \n",
      " dense_9 (Dense)             (None, 10)                3010      \n",
      "                                                                 \n",
      "=================================================================\n"
     ]
    },
    {
     "name": "stdout",
     "output_type": "stream",
     "text": [
      "Total params: 238510 (931.68 KB)\n",
      "Trainable params: 238510 (931.68 KB)\n",
      "Non-trainable params: 0 (0.00 Byte)\n",
      "_________________________________________________________________\n"
     ]
    }
   ],
   "source": [
    "input = keras.Input(shape=(784,))\n",
    "layers_1 = layers.Dense(300,activation = 'relu')(input)\n",
    "layers.Dropout(0.4)\n",
    "output = layers.Dense(10, activation = 'softmax')(layers_1)\n",
    "\n",
    "\n",
    "model = keras.Model(inputs=input,outputs = output)\n",
    "model.summary()"
   ]
  },
  {
   "cell_type": "code",
   "execution_count": 17,
   "metadata": {},
   "outputs": [],
   "source": [
    "model.compile(optimizer='adam',\n",
    "              loss = 'categorical_crossentropy',\n",
    "              metrics = ['accuracy'])"
   ]
  },
  {
   "cell_type": "code",
   "execution_count": 18,
   "metadata": {},
   "outputs": [
    {
     "name": "stdout",
     "output_type": "stream",
     "text": [
      "Epoch 1/10\n",
      "1500/1500 [==============================] - 5s 3ms/step - loss: 0.2455 - accuracy: 0.9274 - val_loss: 0.1267 - val_accuracy: 0.9638\n",
      "Epoch 2/10\n",
      "1500/1500 [==============================] - 7s 4ms/step - loss: 0.1016 - accuracy: 0.9695 - val_loss: 0.0999 - val_accuracy: 0.9702\n",
      "Epoch 3/10\n",
      "1500/1500 [==============================] - 6s 4ms/step - loss: 0.0660 - accuracy: 0.9805 - val_loss: 0.0883 - val_accuracy: 0.9732\n",
      "Epoch 4/10\n",
      "1500/1500 [==============================] - 5s 3ms/step - loss: 0.0459 - accuracy: 0.9858 - val_loss: 0.0917 - val_accuracy: 0.9741\n",
      "Epoch 5/10\n",
      "1500/1500 [==============================] - 5s 3ms/step - loss: 0.0336 - accuracy: 0.9892 - val_loss: 0.0823 - val_accuracy: 0.9776\n",
      "Epoch 6/10\n",
      "1500/1500 [==============================] - 5s 3ms/step - loss: 0.0252 - accuracy: 0.9924 - val_loss: 0.0887 - val_accuracy: 0.9762\n",
      "Epoch 7/10\n",
      "1500/1500 [==============================] - 5s 4ms/step - loss: 0.0183 - accuracy: 0.9945 - val_loss: 0.0902 - val_accuracy: 0.9745\n",
      "Epoch 8/10\n",
      "1500/1500 [==============================] - 5s 3ms/step - loss: 0.0161 - accuracy: 0.9949 - val_loss: 0.0883 - val_accuracy: 0.9758\n",
      "Epoch 9/10\n",
      "1500/1500 [==============================] - 5s 3ms/step - loss: 0.0126 - accuracy: 0.9957 - val_loss: 0.0841 - val_accuracy: 0.9802\n",
      "Epoch 10/10\n",
      "1500/1500 [==============================] - 5s 3ms/step - loss: 0.0121 - accuracy: 0.9960 - val_loss: 0.1103 - val_accuracy: 0.9743\n"
     ]
    }
   ],
   "source": [
    "his = model.fit(x_train, y_train, epochs=10, batch_size=32,validation_split=0.2)"
   ]
  },
  {
   "cell_type": "code",
   "execution_count": 15,
   "metadata": {},
   "outputs": [
    {
     "data": {
      "image/png": "[encoded data removed]",
      "text/plain": [
       "<Figure size 640x480 with 1 Axes>"
      ]
     },
     "metadata": {},
     "output_type": "display_data"
    }
   ],
   "source": [
    "plt.plot(his.history['loss'])\n",
    "plt.plot(his.history['val_loss'])\n",
    "plt.show()"
   ]
  }
 ],
 "metadata": {
  "kernelspec": {
   "display_name": "Python 3",
   "language": "python",
   "name": "python3"
  },
  "language_info": {
   "codemirror_mode": {
    "name": "ipython",
    "version": 3
   },
   "file_extension": ".py",
   "mimetype": "text/x-python",
   "name": "python",
   "nbconvert_exporter": "python",
   "pygments_lexer": "ipython3",
   "version": "3.11.0"
  },
  "orig_nbformat": 4
 },
 "nbformat": 4,
 "nbformat_minor": 2
}
