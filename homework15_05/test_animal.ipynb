{
 "cells": [
  {
   "cell_type": "code",
   "execution_count": 15,
   "metadata": {},
   "outputs": [],
   "source": [
    "class Animal:\n",
    "    def __init__(self, name, age, voice, food):\n",
    "        self.name = name\n",
    "        self.age = age\n",
    "        self.voice = voice\n",
    "        self.food = food\n",
    "        \n",
    "\n",
    "    def voice_animal(self):\n",
    "         print (f\"{self.name} издает звук {self.voice}\")\n",
    "\n",
    "\n",
    "    def animal_eating(self):\n",
    "        print(f\"{self.name} каждый день ест {self.food}\")\n",
    "\n",
    "    def animal_age(self):\n",
    "        if int(self.age) >= 10:\n",
    "            print(f\"{self.name} пожилое животное, нуждается в особом уходе\")\n",
    "        elif int(self.age) >2 and int(self.age) <10:\n",
    "            print(f\"{self.name} половозрелое животное\")\n",
    "        else:\n",
    "            print(f\"{self.name} еще ребенок\")\n",
    "\n"
   ]
  },
  {
   "cell_type": "code",
   "execution_count": 16,
   "metadata": {},
   "outputs": [],
   "source": [
    "\n",
    "class Cat(Animal):\n",
    "    def __init__(self, name, age, voice, food, color):\n",
    "       super().__init__(name, age, voice, food)\n",
    "       self.color = color\n",
    "\n",
    "    def animal_color(self):\n",
    "        print(f\"Мурка имеет цвет {self.color}\")  "
   ]
  },
  {
   "cell_type": "code",
   "execution_count": 17,
   "metadata": {},
   "outputs": [
    {
     "name": "stdout",
     "output_type": "stream",
     "text": [
      "Мурка каждый день ест рыбу\n",
      "Мурка половозрелое животное\n",
      "Мурка издает звук  'Мяу'\n",
      "Мурка имеет цвет БЕЛЫЙ\n"
     ]
    }
   ],
   "source": [
    "cat_first = Cat(\"Мурка\", \"5\", \" 'Мяу'\", \"рыбу\",\"БЕЛЫЙ\")\n",
    "cat_first.animal_eating()\n",
    "cat_first.animal_age()\n",
    "cat_first.voice_animal()\n",
    "cat_first.animal_color()"
   ]
  },
  {
   "cell_type": "code",
   "execution_count": 18,
   "metadata": {},
   "outputs": [],
   "source": [
    "class Dog(Animal):\n",
    "\n",
    "    def __init__(self, name, age, voice, food, color, house=\"Будке\"):\n",
    "       super().__init__(name, age, voice, food)\n",
    "       self.color = color\n",
    "       self.house = house\n",
    "\n",
    "    def animal_color(self):\n",
    "        print(f\"Собака имеет цвет {self.color}\")  \n",
    "    \n",
    "    def animal_horse(self):\n",
    "        print(f\"Собака живет в {self.house}\")  \n"
   ]
  },
  {
   "cell_type": "code",
   "execution_count": 19,
   "metadata": {},
   "outputs": [
    {
     "name": "stdout",
     "output_type": "stream",
     "text": [
      "Рекс каждый день ест мясо\n",
      "Рекс пожилое животное, нуждается в особом уходе\n",
      "Рекс издает звук  'Гав'\n",
      "Собака имеет цвет СЕРЫЙ\n",
      "Собака живет в Будке\n"
     ]
    }
   ],
   "source": [
    "dog_first = Dog(\"Рекс\", 15, \" 'Гав'\", \"мясо\",\"СЕРЫЙ\")\n",
    "dog_first.animal_eating()\n",
    "dog_first.animal_age()\n",
    "dog_first.voice_animal()\n",
    "dog_first.animal_color()\n",
    "dog_first.animal_horse()"
   ]
  },
  {
   "cell_type": "code",
   "execution_count": 20,
   "metadata": {},
   "outputs": [],
   "source": [
    "class Fish(Animal):\n",
    "    def __init__(self, name, food):\n",
    "         self.name = name\n",
    "         self.food = food\n",
    "         \n",
    "    def voice_animal(self):\n",
    "         print (f\"{self.name} не издает звуки\")\n",
    "    \n",
    "     "
   ]
  },
  {
   "cell_type": "code",
   "execution_count": 21,
   "metadata": {},
   "outputs": [
    {
     "name": "stdout",
     "output_type": "stream",
     "text": [
      "Гуппи каждый день ест личинок\n",
      "Гуппи не издает звуки\n"
     ]
    }
   ],
   "source": [
    "fish_first = Fish(\"Гуппи\", \"личинок\")\n",
    "fish_first.animal_eating()\n",
    "fish_first.voice_animal()"
   ]
  },
  {
   "cell_type": "code",
   "execution_count": null,
   "metadata": {},
   "outputs": [],
   "source": []
  }
 ],
 "metadata": {
  "kernelspec": {
   "display_name": "Python 3",
   "language": "python",
   "name": "python3"
  },
  "language_info": {
   "codemirror_mode": {
    "name": "ipython",
    "version": 3
   },
   "file_extension": ".py",
   "mimetype": "text/x-python",
   "name": "python",
   "nbconvert_exporter": "python",
   "pygments_lexer": "ipython3",
   "version": "3.11.0"
  },
  "orig_nbformat": 4
 },
 "nbformat": 4,
 "nbformat_minor": 2
}
