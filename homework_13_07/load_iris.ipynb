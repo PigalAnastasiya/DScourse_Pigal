{
 "cells": [
  {
   "cell_type": "code",
   "execution_count": 20,
   "metadata": {},
   "outputs": [],
   "source": [
    "import numpy as np\n",
    "import pandas as pd\n",
    "import matplotlib.pyplot as plt\n",
    "import seaborn as sns\n",
    "from sklearn.model_selection import train_test_split\n",
    "from sklearn.linear_model import LinearRegression\n",
    "from sklearn.metrics import mean_absolute_error,mean_squared_error"
   ]
  },
  {
   "cell_type": "code",
   "execution_count": 21,
   "metadata": {},
   "outputs": [
    {
     "data": {
      "text/html": [
       "<div>\n",
       "<style scoped>\n",
       "    .dataframe tbody tr th:only-of-type {\n",
       "        vertical-align: middle;\n",
       "    }\n",
       "\n",
       "    .dataframe tbody tr th {\n",
       "        vertical-align: top;\n",
       "    }\n",
       "\n",
       "    .dataframe thead th {\n",
       "        text-align: right;\n",
       "    }\n",
       "</style>\n",
       "<table border=\"1\" class=\"dataframe\">\n",
       "  <thead>\n",
       "    <tr style=\"text-align: right;\">\n",
       "      <th></th>\n",
       "      <th>sepal length (cm)</th>\n",
       "      <th>sepal width (cm)</th>\n",
       "      <th>petal length (cm)</th>\n",
       "      <th>petal width (cm)</th>\n",
       "      <th>target</th>\n",
       "    </tr>\n",
       "  </thead>\n",
       "  <tbody>\n",
       "    <tr>\n",
       "      <th>39</th>\n",
       "      <td>5.1</td>\n",
       "      <td>3.4</td>\n",
       "      <td>1.5</td>\n",
       "      <td>0.2</td>\n",
       "      <td>0</td>\n",
       "    </tr>\n",
       "    <tr>\n",
       "      <th>118</th>\n",
       "      <td>7.7</td>\n",
       "      <td>2.6</td>\n",
       "      <td>6.9</td>\n",
       "      <td>2.3</td>\n",
       "      <td>1</td>\n",
       "    </tr>\n",
       "    <tr>\n",
       "      <th>62</th>\n",
       "      <td>6.0</td>\n",
       "      <td>2.2</td>\n",
       "      <td>4.0</td>\n",
       "      <td>1.0</td>\n",
       "      <td>1</td>\n",
       "    </tr>\n",
       "    <tr>\n",
       "      <th>71</th>\n",
       "      <td>6.1</td>\n",
       "      <td>2.8</td>\n",
       "      <td>4.0</td>\n",
       "      <td>1.3</td>\n",
       "      <td>1</td>\n",
       "    </tr>\n",
       "    <tr>\n",
       "      <th>127</th>\n",
       "      <td>6.1</td>\n",
       "      <td>3.0</td>\n",
       "      <td>4.9</td>\n",
       "      <td>1.8</td>\n",
       "      <td>1</td>\n",
       "    </tr>\n",
       "  </tbody>\n",
       "</table>\n",
       "</div>"
      ],
      "text/plain": [
       "     sepal length (cm)  sepal width (cm)  petal length (cm)  petal width (cm)   \n",
       "39                 5.1               3.4                1.5               0.2  \\\n",
       "118                7.7               2.6                6.9               2.3   \n",
       "62                 6.0               2.2                4.0               1.0   \n",
       "71                 6.1               2.8                4.0               1.3   \n",
       "127                6.1               3.0                4.9               1.8   \n",
       "\n",
       "     target  \n",
       "39        0  \n",
       "118       1  \n",
       "62        1  \n",
       "71        1  \n",
       "127       1  "
      ]
     },
     "execution_count": 21,
     "metadata": {},
     "output_type": "execute_result"
    }
   ],
   "source": [
    "from sklearn.datasets import load_iris\n",
    "iris = load_iris()\n",
    "df= pd.DataFrame(data= np.c_[iris['data'], iris['target']],\n",
    "                     columns= iris['feature_names'] + ['target'])\n",
    "\n",
    "map_condition={\n",
    "    1:1,\n",
    "    0:0,\n",
    "    2:1\n",
    "}\n",
    "df[\"target\"] = df[\"target\"].map(map_condition)\n",
    "df[\"target\"]\n",
    "\n",
    "df.sample(5)"
   ]
  },
  {
   "cell_type": "code",
   "execution_count": 22,
   "metadata": {},
   "outputs": [
    {
     "data": {
      "text/plain": [
       "array([0, 1], dtype=int64)"
      ]
     },
     "execution_count": 22,
     "metadata": {},
     "output_type": "execute_result"
    }
   ],
   "source": [
    "df.target.unique()\n"
   ]
  },
  {
   "cell_type": "code",
   "execution_count": 23,
   "metadata": {},
   "outputs": [
    {
     "data": {
      "text/plain": [
       "150"
      ]
     },
     "execution_count": 23,
     "metadata": {},
     "output_type": "execute_result"
    }
   ],
   "source": [
    "X=df.drop('target',axis=1)\n",
    "y=df['target']\n",
    "len(df)"
   ]
  },
  {
   "cell_type": "code",
   "execution_count": 24,
   "metadata": {},
   "outputs": [
    {
     "data": {
      "text/plain": [
       "sepal width (cm)    -0.603348\n",
       "sepal length (cm)    0.717416\n",
       "petal width (cm)     0.887344\n",
       "petal length (cm)    0.922765\n",
       "target               1.000000\n",
       "Name: target, dtype: float64"
      ]
     },
     "execution_count": 24,
     "metadata": {},
     "output_type": "execute_result"
    }
   ],
   "source": [
    "df.corr()['target'].sort_values()"
   ]
  },
  {
   "cell_type": "code",
   "execution_count": 25,
   "metadata": {},
   "outputs": [],
   "source": [
    "\n",
    "X_train, X_test, y_train, y_test = train_test_split(X, y, test_size=0.3,random_state=42)"
   ]
  },
  {
   "cell_type": "code",
   "execution_count": 26,
   "metadata": {},
   "outputs": [
    {
     "data": {
      "text/plain": [
       "sepal length (cm)    105\n",
       "sepal width (cm)     105\n",
       "petal length (cm)    105\n",
       "petal width (cm)     105\n",
       "dtype: int64"
      ]
     },
     "execution_count": 26,
     "metadata": {},
     "output_type": "execute_result"
    }
   ],
   "source": [
    "X_train.count()\n"
   ]
  },
  {
   "cell_type": "code",
   "execution_count": 27,
   "metadata": {},
   "outputs": [
    {
     "data": {
      "text/plain": [
       "sepal length (cm)    45\n",
       "sepal width (cm)     45\n",
       "petal length (cm)    45\n",
       "petal width (cm)     45\n",
       "dtype: int64"
      ]
     },
     "execution_count": 27,
     "metadata": {},
     "output_type": "execute_result"
    }
   ],
   "source": [
    "X_test.count()"
   ]
  },
  {
   "cell_type": "markdown",
   "metadata": {},
   "source": [
    "**Линейная регрессия**"
   ]
  },
  {
   "cell_type": "code",
   "execution_count": 28,
   "metadata": {},
   "outputs": [
    {
     "name": "stdout",
     "output_type": "stream",
     "text": [
      "MAE= 0.1337324912761251, MSE= 0.025279672628756626, RMSE =0.15899582582180147\n",
      "значение прогноза для первых пяти = [ 0.92969748 -0.05271046  1.43566312  0.88104464  0.91872597  0.04657845], значение прогноза для последних пяти = [ 1.10897511  0.73990211  0.82095934 -0.14458217 -0.05394539]\n",
      "Значение коэффициентов = [-0.06445435 -0.29446839  0.21963211  0.06091663]\n"
     ]
    }
   ],
   "source": [
    "model=LinearRegression()\n",
    "model.fit(X_train,y_train)\n",
    "test_predictions=model.predict(X_test)\n",
    "MAE=mean_absolute_error(y_test,test_predictions)\n",
    "MSE=mean_squared_error(y_test,test_predictions)\n",
    "RMSE=np.sqrt(MSE)\n",
    "print(f'MAE= {MAE}, MSE= {MSE}, RMSE ={RMSE}')\n",
    "print(f\"значение прогноза для первых пяти = {test_predictions[:6]}, значение прогноза для последних пяти = {test_predictions[40:]}\")\n",
    "print(f\"Значение коэффициентов = {model.coef_}\")\n"
   ]
  },
  {
   "cell_type": "markdown",
   "metadata": {},
   "source": [
    "**Линейная регрессия с параметрами**"
   ]
  },
  {
   "cell_type": "code",
   "execution_count": 29,
   "metadata": {},
   "outputs": [
    {
     "name": "stdout",
     "output_type": "stream",
     "text": [
      "MAE= 0.11597305131848902, MSE= 0.023376037435091788, RMSE =0.1528922412521047\n",
      "значение прогноза для первых пяти = [0.91770884 0.09426213 1.54286073 0.85745831 1.00339201 0.10984058], значение прогноза для последних пяти = [ 1.00192899  0.7616865   0.9187907  -0.02625476  0.04681545]\n",
      "Значение коэффициентов = [ 0.0890179  -0.19582212  0.19092139  0.0213925 ]\n"
     ]
    }
   ],
   "source": [
    "model=LinearRegression(fit_intercept=False)\n",
    "model.fit(X_train,y_train)\n",
    "test_predictions=model.predict(X_test)\n",
    "MAE=mean_absolute_error(y_test,test_predictions)\n",
    "MSE=mean_squared_error(y_test,test_predictions)\n",
    "RMSE=np.sqrt(MSE)\n",
    "print(f'MAE= {MAE}, MSE= {MSE}, RMSE ={RMSE}')\n",
    "print(f\"значение прогноза для первых пяти = {test_predictions[:6]}, значение прогноза для последних пяти = {test_predictions[40:]}\")\n",
    "print(f\"Значение коэффициентов = {model.coef_}\")\n",
    "\n"
   ]
  },
  {
   "cell_type": "markdown",
   "metadata": {},
   "source": [
    "**Ridge - регрессия**"
   ]
  },
  {
   "cell_type": "code",
   "execution_count": 30,
   "metadata": {},
   "outputs": [],
   "source": [
    "from sklearn.linear_model import Ridge\n",
    "ridge_model=Ridge(alpha=10)\n",
    "ridge_model.fit(X_train,y_train)\n",
    "test_predictions=ridge_model.predict(X_test)\n",
    "MAE=mean_absolute_error(y_test,test_predictions)\n",
    "MSE = mean_squared_error(y_test,test_predictions)\n",
    "RMSE = np.sqrt(MSE)"
   ]
  },
  {
   "cell_type": "code",
   "execution_count": 31,
   "metadata": {},
   "outputs": [
    {
     "name": "stdout",
     "output_type": "stream",
     "text": [
      "MAE= 0.12067480538397723, MSE= 0.021586065082535907, RMSE =0.1469219693665175\n",
      "значение прогноза для первых пяти = [0.90523277 0.03808895 1.41087873 0.86882917 0.91009285 0.09486296], значение прогноза для последних пяти = [ 1.06935747  0.77725771  0.84132959 -0.04528392  0.02197221]\n",
      "Значение коэффициентов = [ 0.0890179  -0.19582212  0.19092139  0.0213925 ]\n"
     ]
    }
   ],
   "source": [
    "print(f'MAE= {MAE}, MSE= {MSE}, RMSE ={RMSE}')\n",
    "print(f\"значение прогноза для первых пяти = {test_predictions[:6]}, значение прогноза для последних пяти = {test_predictions[40:]}\")\n",
    "print(f\"Значение коэффициентов = {model.coef_}\")"
   ]
  },
  {
   "cell_type": "markdown",
   "metadata": {},
   "source": [
    "**Ridge-регрессия с кросс-валидацией**"
   ]
  },
  {
   "cell_type": "code",
   "execution_count": 32,
   "metadata": {},
   "outputs": [
    {
     "data": {
      "text/plain": [
       "0.1"
      ]
     },
     "execution_count": 32,
     "metadata": {},
     "output_type": "execute_result"
    }
   ],
   "source": [
    "from sklearn.linear_model import RidgeCV\n",
    "ridge_cv_model=RidgeCV(alphas=(0.1,1.0,10.0),scoring='neg_mean_absolute_error')\n",
    "ridge_cv_model.fit(X_train,y_train)\n",
    "test_predictions=ridge_cv_model.predict(X_test)\n",
    "ridge_cv_model.alpha_\n"
   ]
  },
  {
   "cell_type": "code",
   "execution_count": 33,
   "metadata": {},
   "outputs": [],
   "source": [
    "MAE=mean_absolute_error(y_test,test_predictions)\n",
    "MSE = mean_squared_error(y_test,test_predictions)\n",
    "RMSE = np.sqrt(MSE)"
   ]
  },
  {
   "cell_type": "code",
   "execution_count": 34,
   "metadata": {},
   "outputs": [
    {
     "name": "stdout",
     "output_type": "stream",
     "text": [
      "MAE= 0.13342101014349952, MSE= 0.025184977558628675, RMSE =0.15869775536732925\n",
      "значение прогноза для первых пяти = [ 0.92941844 -0.05152955  1.43515268  0.88090486  0.91841452  0.04705206], значение прогноза для последних пяти = [ 1.10854474  0.74062367  0.82115592 -0.14326456 -0.05294102]\n",
      "Значение коэффициентов = [ 0.0890179  -0.19582212  0.19092139  0.0213925 ]\n"
     ]
    }
   ],
   "source": [
    "print(f'MAE= {MAE}, MSE= {MSE}, RMSE ={RMSE}')\n",
    "print(f\"значение прогноза для первых пяти = {test_predictions[:6]}, значение прогноза для последних пяти = {test_predictions[40:]}\")\n",
    "print(f\"Значение коэффициентов = {model.coef_}\")"
   ]
  },
  {
   "cell_type": "code",
   "execution_count": 35,
   "metadata": {},
   "outputs": [
    {
     "data": {
      "text/plain": [
       "-0.11803713028801834"
      ]
     },
     "execution_count": 35,
     "metadata": {},
     "output_type": "execute_result"
    }
   ],
   "source": [
    "ridge_cv_model.best_score_"
   ]
  },
  {
   "cell_type": "markdown",
   "metadata": {},
   "source": [
    "**LASSO-регрессия**"
   ]
  },
  {
   "cell_type": "code",
   "execution_count": 36,
   "metadata": {},
   "outputs": [
    {
     "data": {
      "text/plain": [
       "0.07103310657596373"
      ]
     },
     "execution_count": 36,
     "metadata": {},
     "output_type": "execute_result"
    }
   ],
   "source": [
    "from sklearn.linear_model import LassoCV\n",
    "lasso_cv_model = LassoCV(eps=0.1,n_alphas=100,cv=5)\n",
    "lasso_cv_model.fit(X_train,y_train)\n",
    "lasso_cv_model.alpha_"
   ]
  },
  {
   "cell_type": "code",
   "execution_count": 37,
   "metadata": {},
   "outputs": [],
   "source": [
    "test_predictions=lasso_cv_model.predict(X_test)\n",
    "MAE=mean_absolute_error(y_test,test_predictions)\n",
    "MSE = mean_squared_error(y_test,test_predictions)\n",
    "RMSE = np.sqrt(MSE)"
   ]
  },
  {
   "cell_type": "code",
   "execution_count": 38,
   "metadata": {},
   "outputs": [
    {
     "name": "stdout",
     "output_type": "stream",
     "text": [
      "MAE= 0.1584981623326545, MSE= 0.031185922760714017, RMSE =0.17659536449384514\n",
      "значение прогноза для первых пяти = [0.88545741 0.2319662  1.3646843  0.84189133 0.90724045 0.18840012], значение прогноза для последних пяти = [0.97258957 0.84189133 0.88545741 0.14483403 0.18840012]\n",
      "Значение коэффициентов = [ 0.0890179  -0.19582212  0.19092139  0.0213925 ]\n"
     ]
    }
   ],
   "source": [
    "print(f'MAE= {MAE}, MSE= {MSE}, RMSE ={RMSE}')\n",
    "print(f\"значение прогноза для первых пяти = {test_predictions[:6]}, значение прогноза для последних пяти = {test_predictions[40:]}\")\n",
    "print(f\"Значение коэффициентов = {model.coef_}\")"
   ]
  }
 ],
 "metadata": {
  "kernelspec": {
   "display_name": "Python 3",
   "language": "python",
   "name": "python3"
  },
  "language_info": {
   "codemirror_mode": {
    "name": "ipython",
    "version": 3
   },
   "file_extension": ".py",
   "mimetype": "text/x-python",
   "name": "python",
   "nbconvert_exporter": "python",
   "pygments_lexer": "ipython3",
   "version": "3.11.0"
  },
  "orig_nbformat": 4
 },
 "nbformat": 4,
 "nbformat_minor": 2
}
